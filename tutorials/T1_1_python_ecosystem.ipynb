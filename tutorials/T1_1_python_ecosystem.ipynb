{
 "cells": [
  {
   "cell_type": "code",
   "execution_count": null,
   "metadata": {},
   "outputs": [],
   "source": []
  },
  {
   "cell_type": "markdown",
   "metadata": {},
   "source": [
    "# Introduction to python"
   ]
  },
  {
   "cell_type": "markdown",
   "metadata": {},
   "source": []
  },
  {
   "cell_type": "markdown",
   "metadata": {},
   "source": [
    "# Atomistic simulations\n",
    "\n",
    "We will use [NGLViewer](http://nglviewer.org/ngl/api/index.html) for interactive visualisation of atomic cells in the notebooks. You can use your mouse to:\n",
    "- Translation: right click + drag\n",
    "- Rotation: left click + drag\n",
    "- Z-axis rotation: Ctrl + right click + drag\n",
    "- Zoom: scroll wheel\n",
    "- Center view: left click on the desired atom (or its representation)\n",
    "\n",
    "You can also represent distances by following this procedure:\n",
    "- Right click on a single atom. You will see a green sphere wrapping it.\n",
    "- Double right click on another atom. You will see a dashed line between the two atoms, along with the reported distance in Å.\n",
    "To remove a distance representation, repeat the sequence on the same atoms.\n",
    "\n",
    "[Open visualisation tool OVITO](https://www.ovito.org/) can be used to look at atomic configurations. One can use `ase.io.write()` function to save the configuration as `.xyz` file and import it to OVITO. The advantage is that OVITO has a number of analysis tools."
   ]
  },
  {
   "cell_type": "markdown",
   "metadata": {},
   "source": []
  }
 ],
 "metadata": {
  "language_info": {
   "name": "python"
  }
 },
 "nbformat": 4,
 "nbformat_minor": 2
}
